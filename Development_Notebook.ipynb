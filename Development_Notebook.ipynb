{
  "nbformat": 4,
  "nbformat_minor": 0,
  "metadata": {
    "colab": {
      "provenance": [],
      "mount_file_id": "1meRmiv10cKlhNcDRXraepzP_W4cTyroW",
      "authorship_tag": "ABX9TyNTK7Q//E3zPoeMOz0/UssE",
      "include_colab_link": true
    },
    "kernelspec": {
      "name": "python3",
      "display_name": "Python 3"
    },
    "language_info": {
      "name": "python"
    }
  },
  "cells": [
    {
      "cell_type": "markdown",
      "metadata": {
        "id": "view-in-github",
        "colab_type": "text"
      },
      "source": [
        "<a href=\"https://colab.research.google.com/github/Ayush807/IBP_Assignment_2023/blob/main/Development_Notebook.ipynb\" target=\"_parent\"><img src=\"https://colab.research.google.com/assets/colab-badge.svg\" alt=\"Open In Colab\"/></a>"
      ]
    },
    {
      "cell_type": "markdown",
      "source": [
        "Pseudocode"
      ],
      "metadata": {
        "id": "uysq6xtPClPq"
      }
    },
    {
      "cell_type": "code",
      "execution_count": null,
      "metadata": {
        "id": "kZ12nr38CjNy"
      },
      "outputs": [],
      "source": [
        "# Import necessary libraries\n",
        "import sqlite3\n",
        "import pandas as pd\n",
        "import seaborn as sns\n",
        "import matplotlib.pyplot as plt\n",
        "\n",
        "# Establish a connection with the SQLite database\n",
        "conn = sqlite3.connect(\"enron.db\")\n",
        "\n",
        "# Create a cursor object\n",
        "cur = conn.cursor()\n",
        "\n",
        "# Check the schema of the database and tables\n",
        "# ...\n",
        "\n",
        "# Check the format of the date field\n",
        "# ...\n",
        "\n",
        "# Read data from the database into DataFrames\n",
        "# ...\n",
        "\n",
        "# Perform data analysis and visualization\n",
        "# ...\n",
        "\n",
        "# Commit changes and close the database connection\n",
        "# ..."
      ]
    },
    {
      "cell_type": "markdown",
      "source": [
        "Testing:\n",
        "\n",
        "1. Ensure that the enron.db file is successfully downloaded and available.\n",
        "\n",
        "2. Verify that the necessary libraries (sqlite3, pandas, seaborn, matplotlib.pyplot) are installed and up-to-date.\n",
        "\n",
        "3. Execute the code and check for any error messages or exceptions raised.\n",
        "\n",
        "4. Validate the results by comparing them with expected outcomes based on the data and analysis being performed.\n",
        "\n",
        "# **Line Plot**\n",
        "![Line Plot](https://drive.google.com/uc?export=view&id=1UcDLaK8kdw3GevW8dL4VLq7v3AptQh2c)\n",
        "\n",
        "# **Line Plot Data**\n",
        "\n",
        "![Line Plot Data](https://drive.google.com/uc?export=view&id=1EgatKtB0YwumhTsakvQeOPsLo-UKCrYJ)\n",
        "\n",
        "# **Sender and Recipient BarPlots**\n",
        "![Email Sender Graph](https://drive.google.com/uc?export=view&id=1iTL28URIlv0OWKw-RxeCqktpXtRhNcej)\n",
        "![Recipient Graph](https://drive.google.com/uc?export=view&id=1J25f5w-cvemJS_HJLgVnbp0tG8GmOy6F)\n",
        "\n",
        "# **Sender and Recipient Data**\n",
        "![Data](https://drive.google.com/uc?export=view&id=1t2DfRnbRGod-EeTSEYts0L-6yZRinlwR)\n",
        "\n",
        "\n",
        "# **Email Types Pie Chart**\n",
        "![Pie Chart](https://drive.google.com/uc?export=view&id=1GvK-bQh416qToYYpudF0F-syU51bJK76)\n",
        "\n",
        "# **Email Types Data**\n",
        "![Data](https://drive.google.com/uc?export=view&id=1i_4mn4tVWPvzZeuUmwZhtEbv-oPRpsbv)\n"
      ],
      "metadata": {
        "id": "l2S-zC_iCqPD"
      }
    },
    {
      "cell_type": "markdown",
      "source": [
        "Industry Standards:\n",
        "\n",
        "1. All the code follows the recommended coding style guidelines for Python's PEP 8.\n",
        "\n",
        "2. Descriptive variable and function names was used to improve code readability.\n",
        "\n",
        "3. Comments were added to explain the purpose and functionality of the code, \n",
        "especially for complex or non-intuitive sections.\n",
        "\n",
        "4. Error handling techniques were applied to gracefully handle potential exceptions or errors during database connection, SQL queries, or data analysis.\n",
        "\n",
        "5. The code was optimized for efficiency and performance, considering the size of the dataset and the desired speed of analysis and visualization.\n",
        "\n",
        "6. Best practices taught in class were used for data visualization, such as using appropriate chart types, labeling axes, providing titles, and selecting visually appealing color palettes."
      ],
      "metadata": {
        "id": "U-ngyIO9DRbn"
      }
    }
  ]
}